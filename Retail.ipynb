{
 "cells": [
  {
   "cell_type": "code",
   "execution_count": null,
   "id": "93050756",
   "metadata": {},
   "outputs": [],
   "source": [
    "import pandas as pd\n",
    "import matplotlib.pyplot as plt\n",
    "import seaborn as sns\n",
    "import numpy as np\n",
    "from sklearn.preprocessing import LabelEncoder\n",
    "from sklearn.preprocessing import StandardScaler, MinMaxScaler\n",
    "#import tensorflow as tf\n",
    "#import pickle"
   ]
  },
  {
   "cell_type": "code",
   "execution_count": 2,
   "id": "2db62381",
   "metadata": {},
   "outputs": [],
   "source": [
    "order_df = pd.read_csv(r\"C:\\Users\\engga\\OneDrive\\Documents\\Porkodi_guvi\\Guvi_project\\Streamlit\\Final Project\\orders.csv\")"
   ]
  },
  {
   "cell_type": "code",
   "execution_count": 3,
   "id": "6f772f31",
   "metadata": {},
   "outputs": [],
   "source": [
    "order_pro_train_df = pd.read_csv(r\"C:\\Users\\engga\\OneDrive\\Documents\\Porkodi_guvi\\Guvi_project\\Streamlit\\Final Project\\order_products__train.csv\")"
   ]
  },
  {
   "cell_type": "code",
   "execution_count": 4,
   "id": "ea6e36f4",
   "metadata": {},
   "outputs": [],
   "source": [
    "order_pro_prior_df = pd.read_csv(r\"C:\\Users\\engga\\OneDrive\\Documents\\Porkodi_guvi\\Guvi_project\\Streamlit\\Final Project\\order_products__prior.csv\")"
   ]
  },
  {
   "cell_type": "code",
   "execution_count": 5,
   "id": "9f564ff9",
   "metadata": {},
   "outputs": [],
   "source": [
    "# Combine train and prior datasets\n",
    "order_products_df = pd.concat([order_pro_train_df, order_pro_prior_df])"
   ]
  },
  {
   "cell_type": "code",
   "execution_count": 6,
   "id": "424d2c28",
   "metadata": {},
   "outputs": [],
   "source": [
    "# Merge with orders\n",
    "dff = pd.merge(order_df, order_products_df, on=\"order_id\")"
   ]
  },
  {
   "cell_type": "code",
   "execution_count": 7,
   "id": "d67c5e03",
   "metadata": {},
   "outputs": [
    {
     "data": {
      "text/plain": [
       "(2433192, 10)"
      ]
     },
     "execution_count": 7,
     "metadata": {},
     "output_type": "execute_result"
    }
   ],
   "source": [
    "dff.shape"
   ]
  },
  {
   "cell_type": "code",
   "execution_count": 8,
   "id": "5092257a",
   "metadata": {},
   "outputs": [],
   "source": [
    "product_df = pd.read_csv(r\"C:\\Users\\engga\\OneDrive\\Documents\\Porkodi_guvi\\Guvi_project\\Streamlit\\Final Project\\products.csv\")"
   ]
  },
  {
   "cell_type": "code",
   "execution_count": 9,
   "id": "ab5af022",
   "metadata": {},
   "outputs": [],
   "source": [
    "dept_df = pd.read_csv(r\"C:\\Users\\engga\\OneDrive\\Documents\\Porkodi_guvi\\Guvi_project\\Streamlit\\Final Project\\departments.csv\")"
   ]
  },
  {
   "cell_type": "code",
   "execution_count": 10,
   "id": "ab97f3aa",
   "metadata": {},
   "outputs": [],
   "source": [
    "dff1 = pd.merge(product_df,dept_df, on = \"department_id\")"
   ]
  },
  {
   "cell_type": "code",
   "execution_count": 11,
   "id": "2e0ff03a",
   "metadata": {},
   "outputs": [],
   "source": [
    "df = pd.merge(dff,dff1, on = \"product_id\")"
   ]
  },
  {
   "cell_type": "code",
   "execution_count": 12,
   "id": "52c8889e",
   "metadata": {},
   "outputs": [
    {
     "data": {
      "text/plain": [
       "(2433192, 14)"
      ]
     },
     "execution_count": 12,
     "metadata": {},
     "output_type": "execute_result"
    }
   ],
   "source": [
    "df.shape"
   ]
  },
  {
   "cell_type": "code",
   "execution_count": 13,
   "id": "3d7516eb",
   "metadata": {},
   "outputs": [
    {
     "name": "stdout",
     "output_type": "stream",
     "text": [
      "days_since_prior_order 67030\n"
     ]
    }
   ],
   "source": [
    "for i in df.columns:\n",
    "    if df[i].isnull().sum() > 0:\n",
    "        print(i, df[i].isnull().sum())"
   ]
  },
  {
   "cell_type": "code",
   "execution_count": 14,
   "id": "3c4674a1",
   "metadata": {},
   "outputs": [],
   "source": [
    "df[\"days_since_prior_order\"] = df[\"days_since_prior_order\"].fillna(0)"
   ]
  },
  {
   "cell_type": "code",
   "execution_count": 17,
   "id": "5742c9f6",
   "metadata": {},
   "outputs": [
    {
     "data": {
      "text/plain": [
       "order_id                  0\n",
       "user_id                   0\n",
       "eval_set                  0\n",
       "order_number              0\n",
       "order_dow                 0\n",
       "order_hour_of_day         0\n",
       "days_since_prior_order    0\n",
       "product_id                0\n",
       "add_to_cart_order         0\n",
       "reordered                 0\n",
       "product_name              0\n",
       "aisle_id                  0\n",
       "department_id             0\n",
       "department                0\n",
       "dtype: int64"
      ]
     },
     "execution_count": 17,
     "metadata": {},
     "output_type": "execute_result"
    }
   ],
   "source": [
    "df.isnull().sum()"
   ]
  },
  {
   "cell_type": "code",
   "execution_count": 15,
   "id": "630e7866",
   "metadata": {},
   "outputs": [
    {
     "data": {
      "text/plain": [
       "np.int64(0)"
      ]
     },
     "execution_count": 15,
     "metadata": {},
     "output_type": "execute_result"
    }
   ],
   "source": [
    "df.duplicated().sum()"
   ]
  },
  {
   "cell_type": "code",
   "execution_count": 16,
   "id": "9a65d3b9",
   "metadata": {},
   "outputs": [
    {
     "name": "stdout",
     "output_type": "stream",
     "text": [
      "order_id Skew : 0.7656156412946572 Kurtosis : -0.8945386780550075\n",
      "user_id Skew : 0.0007666147927593033 Kurtosis : -1.200651969245386\n",
      "order_number Skew : 2.0087511883709297 Kurtosis : 4.573195419224027\n",
      "order_dow Skew : 0.1769478347475845 Kurtosis : -1.370693223578216\n",
      "order_hour_of_day Skew : -0.08725819252111469 Kurtosis : 0.01518501462265709\n",
      "days_since_prior_order Skew : 0.4610282487062522 Kurtosis : -1.2756256876565006\n",
      "product_id Skew : -0.021779681058833246 Kurtosis : -1.148576192898553\n",
      "add_to_cart_order Skew : 1.7874641125724744 Kurtosis : 5.455859215186503\n",
      "reordered Skew : -0.38742554105627497 Kurtosis : -1.8499029706944412\n",
      "aisle_id Skew : -0.16934182310662552 Kurtosis : -1.3191707867915425\n",
      "department_id Skew : 0.16645083321789772 Kurtosis : -1.5479383501571082\n"
     ]
    }
   ],
   "source": [
    "#skewness,#kurotis\n",
    "for i in df.columns:\n",
    "    if df[i].dtype in ['int','float64']:\n",
    "        print(i, \"Skew :\",df[i].skew(), \"Kurtosis :\", df[i].kurtosis())"
   ]
  },
  {
   "cell_type": "code",
   "execution_count": 17,
   "id": "09c0dbda",
   "metadata": {},
   "outputs": [],
   "source": [
    "#dropping the unneccassary column\n",
    "df = df.drop(['order_id','eval_set'],axis=1)"
   ]
  },
  {
   "cell_type": "code",
   "execution_count": 18,
   "id": "286bc95c",
   "metadata": {},
   "outputs": [
    {
     "name": "stdout",
     "output_type": "stream",
     "text": [
      "<class 'pandas.core.frame.DataFrame'>\n",
      "RangeIndex: 2433192 entries, 0 to 2433191\n",
      "Data columns (total 12 columns):\n",
      " #   Column                  Dtype  \n",
      "---  ------                  -----  \n",
      " 0   user_id                 int64  \n",
      " 1   order_number            int64  \n",
      " 2   order_dow               int64  \n",
      " 3   order_hour_of_day       int64  \n",
      " 4   days_since_prior_order  float64\n",
      " 5   product_id              int64  \n",
      " 6   add_to_cart_order       int64  \n",
      " 7   reordered               int64  \n",
      " 8   product_name            object \n",
      " 9   aisle_id                int64  \n",
      " 10  department_id           int64  \n",
      " 11  department              object \n",
      "dtypes: float64(1), int64(9), object(2)\n",
      "memory usage: 222.8+ MB\n"
     ]
    }
   ],
   "source": [
    "df.info()"
   ]
  },
  {
   "cell_type": "code",
   "execution_count": 19,
   "id": "ca31ae5b",
   "metadata": {},
   "outputs": [
    {
     "name": "stdout",
     "output_type": "stream",
     "text": [
      "product_name ['Soda' 'Organic String Cheese' '0% Greek Strained Yogurt' ...\n",
      " 'Organic Aromatherapeutic Moroccan Argan Oil Set'\n",
      " 'Vitamin Code Raw One For Women Vegetarian Capsules'\n",
      " 'Blasted Chocolatey Chip Marshmallow Rice Krispies Treats']\n",
      "department ['beverages' 'dairy eggs' 'household' 'snacks' 'breakfast' 'deli' 'frozen'\n",
      " 'produce' 'personal care' 'canned goods' 'alcohol' 'pantry'\n",
      " 'international' 'meat seafood' 'bakery' 'dry goods pasta' 'other'\n",
      " 'babies' 'pets' 'bulk' 'missing']\n"
     ]
    }
   ],
   "source": [
    "for i in df.columns:\n",
    "    if df[i].dtypes == object:\n",
    "        print(i, df[i].unique())"
   ]
  },
  {
   "cell_type": "code",
   "execution_count": null,
   "id": "00117283",
   "metadata": {},
   "outputs": [],
   "source": [
    "#encoding with mapped values\n",
    "\n",
    "label_encoders = {}\n",
    "\n",
    "for col in df.select_dtypes(include=[\"object\"]).columns:\n",
    "    le = LabelEncoder()\n",
    "    df[col] = le.fit_transform(df[col])\n",
    "    label_encoders[col] = le\n",
    "\n",
    "print(\"\\nCategory Mappings after Encoding:\\n\")\n",
    "for col, le in label_encoders.items():\n",
    "    print(f\"Column: {col}\")\n",
    "    for class_index, class_label in enumerate(le.classes_):\n",
    "        print(f\"  {class_label} --> {class_index}\")\n",
    "    print()\n"
   ]
  },
  {
   "cell_type": "code",
   "execution_count": null,
   "id": "4b6fb30c",
   "metadata": {},
   "outputs": [],
   "source": [
    "#unique value with mapped value:\n",
    "\n",
    "for col, le in label_encoders.items():\n",
    "    print(f\"Column: {col}\")\n",
    "    # Original unique values (sorted by label encoder order)\n",
    "    original_values = le.classes_\n",
    "    # Encoded values are just indexes from 0 to len(classes_) - 1\n",
    "    for class_index, class_label in enumerate(original_values):\n",
    "        print(f\" {class_label}  -->  Encoded Value: {class_index}\")\n",
    "    print()\n"
   ]
  },
  {
   "cell_type": "code",
   "execution_count": 22,
   "id": "136ed442",
   "metadata": {},
   "outputs": [
    {
     "name": "stdout",
     "output_type": "stream",
     "text": [
      "<class 'pandas.core.frame.DataFrame'>\n",
      "RangeIndex: 2433192 entries, 0 to 2433191\n",
      "Data columns (total 12 columns):\n",
      " #   Column                  Dtype  \n",
      "---  ------                  -----  \n",
      " 0   user_id                 int64  \n",
      " 1   order_number            int64  \n",
      " 2   order_dow               int64  \n",
      " 3   order_hour_of_day       int64  \n",
      " 4   days_since_prior_order  float64\n",
      " 5   product_id              int64  \n",
      " 6   add_to_cart_order       int64  \n",
      " 7   reordered               int64  \n",
      " 8   product_name            int64  \n",
      " 9   aisle_id                int64  \n",
      " 10  department_id           int64  \n",
      " 11  department              int64  \n",
      "dtypes: float64(1), int64(11)\n",
      "memory usage: 222.8 MB\n"
     ]
    }
   ],
   "source": [
    "df.info()"
   ]
  },
  {
   "cell_type": "code",
   "execution_count": 23,
   "id": "3e667fab",
   "metadata": {},
   "outputs": [],
   "source": [
    "# Features for StandardScaler and min max scaler\n",
    "std_cols = ['user_id', 'order_dow', 'order_hour_of_day', 'days_since_prior_order', 'product_id', 'aisle_id', 'department_id']\n",
    "minmax_cols = ['order_number', 'add_to_cart_order']\n",
    "\n",
    "std_scaler = StandardScaler()\n",
    "minmax_scaler = MinMaxScaler()\n",
    "df[std_cols] = std_scaler.fit_transform(df[std_cols])\n",
    "df[minmax_cols] = minmax_scaler.fit_transform(df[minmax_cols])\n"
   ]
  },
  {
   "cell_type": "code",
   "execution_count": 24,
   "id": "e1e8afbf",
   "metadata": {},
   "outputs": [
    {
     "data": {
      "text/html": [
       "<div>\n",
       "<style scoped>\n",
       "    .dataframe tbody tr th:only-of-type {\n",
       "        vertical-align: middle;\n",
       "    }\n",
       "\n",
       "    .dataframe tbody tr th {\n",
       "        vertical-align: top;\n",
       "    }\n",
       "\n",
       "    .dataframe thead th {\n",
       "        text-align: right;\n",
       "    }\n",
       "</style>\n",
       "<table border=\"1\" class=\"dataframe\">\n",
       "  <thead>\n",
       "    <tr style=\"text-align: right;\">\n",
       "      <th></th>\n",
       "      <th>user_id</th>\n",
       "      <th>order_number</th>\n",
       "      <th>order_dow</th>\n",
       "      <th>order_hour_of_day</th>\n",
       "      <th>days_since_prior_order</th>\n",
       "      <th>product_id</th>\n",
       "      <th>add_to_cart_order</th>\n",
       "      <th>reordered</th>\n",
       "      <th>product_name</th>\n",
       "      <th>aisle_id</th>\n",
       "      <th>department_id</th>\n",
       "      <th>department</th>\n",
       "    </tr>\n",
       "  </thead>\n",
       "  <tbody>\n",
       "    <tr>\n",
       "      <th>0</th>\n",
       "      <td>-1.731807</td>\n",
       "      <td>0.10101</td>\n",
       "      <td>0.600291</td>\n",
       "      <td>-1.296464</td>\n",
       "      <td>-0.015638</td>\n",
       "      <td>-1.797814</td>\n",
       "      <td>0.000000</td>\n",
       "      <td>1</td>\n",
       "      <td>35650</td>\n",
       "      <td>0.150280</td>\n",
       "      <td>-0.457489</td>\n",
       "      <td>3</td>\n",
       "    </tr>\n",
       "    <tr>\n",
       "      <th>1</th>\n",
       "      <td>-1.731807</td>\n",
       "      <td>0.10101</td>\n",
       "      <td>0.600291</td>\n",
       "      <td>-1.296464</td>\n",
       "      <td>-0.015638</td>\n",
       "      <td>-0.030760</td>\n",
       "      <td>0.007937</td>\n",
       "      <td>1</td>\n",
       "      <td>27552</td>\n",
       "      <td>-1.317855</td>\n",
       "      <td>0.973587</td>\n",
       "      <td>7</td>\n",
       "    </tr>\n",
       "    <tr>\n",
       "      <th>2</th>\n",
       "      <td>-1.731807</td>\n",
       "      <td>0.10101</td>\n",
       "      <td>0.600291</td>\n",
       "      <td>-1.296464</td>\n",
       "      <td>-0.015638</td>\n",
       "      <td>0.946764</td>\n",
       "      <td>0.015873</td>\n",
       "      <td>1</td>\n",
       "      <td>19</td>\n",
       "      <td>1.277598</td>\n",
       "      <td>0.973587</td>\n",
       "      <td>7</td>\n",
       "    </tr>\n",
       "    <tr>\n",
       "      <th>3</th>\n",
       "      <td>-1.731807</td>\n",
       "      <td>0.10101</td>\n",
       "      <td>0.600291</td>\n",
       "      <td>-1.296464</td>\n",
       "      <td>-0.015638</td>\n",
       "      <td>0.059375</td>\n",
       "      <td>0.023810</td>\n",
       "      <td>1</td>\n",
       "      <td>42385</td>\n",
       "      <td>-0.452704</td>\n",
       "      <td>1.132595</td>\n",
       "      <td>11</td>\n",
       "    </tr>\n",
       "    <tr>\n",
       "      <th>4</th>\n",
       "      <td>-1.731807</td>\n",
       "      <td>0.10101</td>\n",
       "      <td>0.600291</td>\n",
       "      <td>-1.296464</td>\n",
       "      <td>-0.015638</td>\n",
       "      <td>0.998421</td>\n",
       "      <td>0.031746</td>\n",
       "      <td>1</td>\n",
       "      <td>21792</td>\n",
       "      <td>-0.688655</td>\n",
       "      <td>1.450612</td>\n",
       "      <td>20</td>\n",
       "    </tr>\n",
       "  </tbody>\n",
       "</table>\n",
       "</div>"
      ],
      "text/plain": [
       "    user_id  order_number  order_dow  order_hour_of_day  \\\n",
       "0 -1.731807       0.10101   0.600291          -1.296464   \n",
       "1 -1.731807       0.10101   0.600291          -1.296464   \n",
       "2 -1.731807       0.10101   0.600291          -1.296464   \n",
       "3 -1.731807       0.10101   0.600291          -1.296464   \n",
       "4 -1.731807       0.10101   0.600291          -1.296464   \n",
       "\n",
       "   days_since_prior_order  product_id  add_to_cart_order  reordered  \\\n",
       "0               -0.015638   -1.797814           0.000000          1   \n",
       "1               -0.015638   -0.030760           0.007937          1   \n",
       "2               -0.015638    0.946764           0.015873          1   \n",
       "3               -0.015638    0.059375           0.023810          1   \n",
       "4               -0.015638    0.998421           0.031746          1   \n",
       "\n",
       "   product_name  aisle_id  department_id  department  \n",
       "0         35650  0.150280      -0.457489           3  \n",
       "1         27552 -1.317855       0.973587           7  \n",
       "2            19  1.277598       0.973587           7  \n",
       "3         42385 -0.452704       1.132595          11  \n",
       "4         21792 -0.688655       1.450612          20  "
      ]
     },
     "execution_count": 24,
     "metadata": {},
     "output_type": "execute_result"
    }
   ],
   "source": [
    "df.head(5)"
   ]
  },
  {
   "cell_type": "code",
   "execution_count": 31,
   "id": "a26b5245",
   "metadata": {},
   "outputs": [],
   "source": [
    "df.to_csv(\"data.csv\", index=False)"
   ]
  },
  {
   "cell_type": "code",
   "execution_count": 25,
   "id": "2132d10e",
   "metadata": {},
   "outputs": [
    {
     "data": {
      "image/png": "[encoded data removed]",
      "text/plain": [
       "<Figure size 1600x1000 with 2 Axes>"
      ]
     },
     "metadata": {},
     "output_type": "display_data"
    }
   ],
   "source": [
    "#correlation:\n",
    "features = ['user_id','order_number','order_dow','order_hour_of_day','days_since_prior_order','product_id','add_to_cart_order','reordered',\n",
    "'product_name','aisle_id','department_id', 'department']\n",
    "corr_1= df[features].corr()\n",
    "plt.figure(figsize=(16,10))\n",
    "sns.heatmap(corr_1, annot=True, fmt = \".2f\", cmap = \"BuPu\");"
   ]
  },
  {
   "cell_type": "code",
   "execution_count": 26,
   "id": "fd2950b5",
   "metadata": {},
   "outputs": [],
   "source": [
    "x = df.drop([\"reordered\"], axis=1)"
   ]
  },
  {
   "cell_type": "code",
   "execution_count": 27,
   "id": "e631af81",
   "metadata": {},
   "outputs": [],
   "source": [
    "y = df[\"reordered\"]"
   ]
  },
  {
   "cell_type": "code",
   "execution_count": 28,
   "id": "ce018590",
   "metadata": {},
   "outputs": [
    {
     "name": "stdout",
     "output_type": "stream",
     "text": [
      "<class 'pandas.core.frame.DataFrame'>\n",
      "RangeIndex: 2433192 entries, 0 to 2433191\n",
      "Data columns (total 11 columns):\n",
      " #   Column                  Dtype  \n",
      "---  ------                  -----  \n",
      " 0   user_id                 float64\n",
      " 1   order_number            float64\n",
      " 2   order_dow               float64\n",
      " 3   order_hour_of_day       float64\n",
      " 4   days_since_prior_order  float64\n",
      " 5   product_id              float64\n",
      " 6   add_to_cart_order       float64\n",
      " 7   product_name            int64  \n",
      " 8   aisle_id                float64\n",
      " 9   department_id           float64\n",
      " 10  department              int64  \n",
      "dtypes: float64(9), int64(2)\n",
      "memory usage: 204.2 MB\n"
     ]
    }
   ],
   "source": [
    "x.info()"
   ]
  },
  {
   "cell_type": "code",
   "execution_count": 29,
   "id": "b9be4e93",
   "metadata": {},
   "outputs": [
    {
     "name": "stdout",
     "output_type": "stream",
     "text": [
      "<class 'pandas.core.series.Series'>\n",
      "RangeIndex: 2433192 entries, 0 to 2433191\n",
      "Series name: reordered\n",
      "Non-Null Count    Dtype\n",
      "--------------    -----\n",
      "2433192 non-null  int64\n",
      "dtypes: int64(1)\n",
      "memory usage: 18.6 MB\n"
     ]
    }
   ],
   "source": [
    "y.info()"
   ]
  },
  {
   "cell_type": "code",
   "execution_count": 30,
   "id": "fd2621f6",
   "metadata": {},
   "outputs": [
    {
     "name": "stdout",
     "output_type": "stream",
     "text": [
      "Requirement already satisfied: tensorflow in c:\\users\\engga\\appdata\\local\\programs\\python\\python312\\lib\\site-packages (2.19.0)\n",
      "Requirement already satisfied: absl-py>=1.0.0 in c:\\users\\engga\\appdata\\local\\programs\\python\\python312\\lib\\site-packages (from tensorflow) (2.2.2)\n",
      "Requirement already satisfied: astunparse>=1.6.0 in c:\\users\\engga\\appdata\\local\\programs\\python\\python312\\lib\\site-packages (from tensorflow) (1.6.3)\n",
      "Requirement already satisfied: flatbuffers>=24.3.25 in c:\\users\\engga\\appdata\\local\\programs\\python\\python312\\lib\\site-packages (from tensorflow) (25.2.10)\n",
      "Requirement already satisfied: gast!=0.5.0,!=0.5.1,!=0.5.2,>=0.2.1 in c:\\users\\engga\\appdata\\local\\programs\\python\\python312\\lib\\site-packages (from tensorflow) (0.6.0)\n",
      "Requirement already satisfied: google-pasta>=0.1.1 in c:\\users\\engga\\appdata\\local\\programs\\python\\python312\\lib\\site-packages (from tensorflow) (0.2.0)\n",
      "Requirement already satisfied: libclang>=13.0.0 in c:\\users\\engga\\appdata\\local\\programs\\python\\python312\\lib\\site-packages (from tensorflow) (18.1.1)\n",
      "Requirement already satisfied: opt-einsum>=2.3.2 in c:\\users\\engga\\appdata\\local\\programs\\python\\python312\\lib\\site-packages (from tensorflow) (3.4.0)\n",
      "Requirement already satisfied: packaging in c:\\users\\engga\\appdata\\local\\programs\\python\\python312\\lib\\site-packages (from tensorflow) (24.2)\n",
      "Requirement already satisfied: protobuf!=4.21.0,!=4.21.1,!=4.21.2,!=4.21.3,!=4.21.4,!=4.21.5,<6.0.0dev,>=3.20.3 in c:\\users\\engga\\appdata\\local\\programs\\python\\python312\\lib\\site-packages (from tensorflow) (3.20.3)\n",
      "Requirement already satisfied: requests<3,>=2.21.0 in c:\\users\\engga\\appdata\\local\\programs\\python\\python312\\lib\\site-packages (from tensorflow) (2.32.3)\n",
      "Requirement already satisfied: setuptools in c:\\users\\engga\\appdata\\local\\programs\\python\\python312\\lib\\site-packages (from tensorflow) (75.8.0)\n",
      "Requirement already satisfied: six>=1.12.0 in c:\\users\\engga\\appdata\\local\\programs\\python\\python312\\lib\\site-packages (from tensorflow) (1.17.0)\n",
      "Requirement already satisfied: termcolor>=1.1.0 in c:\\users\\engga\\appdata\\local\\programs\\python\\python312\\lib\\site-packages (from tensorflow) (3.1.0)\n",
      "Requirement already satisfied: typing-extensions>=3.6.6 in c:\\users\\engga\\appdata\\local\\programs\\python\\python312\\lib\\site-packages (from tensorflow) (4.12.2)\n",
      "Requirement already satisfied: wrapt>=1.11.0 in c:\\users\\engga\\appdata\\local\\programs\\python\\python312\\lib\\site-packages (from tensorflow) (1.17.2)\n",
      "Requirement already satisfied: grpcio<2.0,>=1.24.3 in c:\\users\\engga\\appdata\\local\\programs\\python\\python312\\lib\\site-packages (from tensorflow) (1.71.0)\n",
      "Requirement already satisfied: tensorboard~=2.19.0 in c:\\users\\engga\\appdata\\local\\programs\\python\\python312\\lib\\site-packages (from tensorflow) (2.19.0)\n",
      "Requirement already satisfied: keras>=3.5.0 in c:\\users\\engga\\appdata\\local\\programs\\python\\python312\\lib\\site-packages (from tensorflow) (3.9.2)\n",
      "Requirement already satisfied: numpy<2.2.0,>=1.26.0 in c:\\users\\engga\\appdata\\local\\programs\\python\\python312\\lib\\site-packages (from tensorflow) (2.1.3)\n",
      "Requirement already satisfied: h5py>=3.11.0 in c:\\users\\engga\\appdata\\local\\programs\\python\\python312\\lib\\site-packages (from tensorflow) (3.13.0)\n",
      "Requirement already satisfied: ml-dtypes<1.0.0,>=0.5.1 in c:\\users\\engga\\appdata\\local\\programs\\python\\python312\\lib\\site-packages (from tensorflow) (0.5.1)\n",
      "Requirement already satisfied: wheel<1.0,>=0.23.0 in c:\\users\\engga\\appdata\\local\\programs\\python\\python312\\lib\\site-packages (from astunparse>=1.6.0->tensorflow) (0.45.1)\n",
      "Requirement already satisfied: rich in c:\\users\\engga\\appdata\\local\\programs\\python\\python312\\lib\\site-packages (from keras>=3.5.0->tensorflow) (13.9.4)\n",
      "Requirement already satisfied: namex in c:\\users\\engga\\appdata\\local\\programs\\python\\python312\\lib\\site-packages (from keras>=3.5.0->tensorflow) (0.0.9)\n",
      "Requirement already satisfied: optree in c:\\users\\engga\\appdata\\local\\programs\\python\\python312\\lib\\site-packages (from keras>=3.5.0->tensorflow) (0.15.0)\n",
      "Requirement already satisfied: charset-normalizer<4,>=2 in c:\\users\\engga\\appdata\\local\\programs\\python\\python312\\lib\\site-packages (from requests<3,>=2.21.0->tensorflow) (3.4.1)\n",
      "Requirement already satisfied: idna<4,>=2.5 in c:\\users\\engga\\appdata\\local\\programs\\python\\python312\\lib\\site-packages (from requests<3,>=2.21.0->tensorflow) (3.10)\n",
      "Requirement already satisfied: urllib3<3,>=1.21.1 in c:\\users\\engga\\appdata\\local\\programs\\python\\python312\\lib\\site-packages (from requests<3,>=2.21.0->tensorflow) (2.3.0)\n",
      "Requirement already satisfied: certifi>=2017.4.17 in c:\\users\\engga\\appdata\\local\\programs\\python\\python312\\lib\\site-packages (from requests<3,>=2.21.0->tensorflow) (2025.1.31)\n",
      "Requirement already satisfied: markdown>=2.6.8 in c:\\users\\engga\\appdata\\local\\programs\\python\\python312\\lib\\site-packages (from tensorboard~=2.19.0->tensorflow) (3.8)\n",
      "Requirement already satisfied: tensorboard-data-server<0.8.0,>=0.7.0 in c:\\users\\engga\\appdata\\local\\programs\\python\\python312\\lib\\site-packages (from tensorboard~=2.19.0->tensorflow) (0.7.2)\n",
      "Requirement already satisfied: werkzeug>=1.0.1 in c:\\users\\engga\\appdata\\local\\programs\\python\\python312\\lib\\site-packages (from tensorboard~=2.19.0->tensorflow) (3.1.3)\n",
      "Requirement already satisfied: MarkupSafe>=2.1.1 in c:\\users\\engga\\appdata\\local\\programs\\python\\python312\\lib\\site-packages (from werkzeug>=1.0.1->tensorboard~=2.19.0->tensorflow) (3.0.2)\n",
      "Requirement already satisfied: markdown-it-py>=2.2.0 in c:\\users\\engga\\appdata\\local\\programs\\python\\python312\\lib\\site-packages (from rich->keras>=3.5.0->tensorflow) (3.0.0)\n",
      "Requirement already satisfied: pygments<3.0.0,>=2.13.0 in c:\\users\\engga\\appdata\\local\\programs\\python\\python312\\lib\\site-packages (from rich->keras>=3.5.0->tensorflow) (2.19.1)\n",
      "Requirement already satisfied: mdurl~=0.1 in c:\\users\\engga\\appdata\\local\\programs\\python\\python312\\lib\\site-packages (from markdown-it-py>=2.2.0->rich->keras>=3.5.0->tensorflow) (0.1.2)\n",
      "Note: you may need to restart the kernel to use updated packages.\n"
     ]
    },
    {
     "name": "stderr",
     "output_type": "stream",
     "text": [
      "\n",
      "[notice] A new release of pip is available: 25.0.1 -> 25.1.1\n",
      "[notice] To update, run: python.exe -m pip install --upgrade pip\n"
     ]
    }
   ],
   "source": [
    "pip install tensorflow"
   ]
  },
  {
   "cell_type": "code",
   "execution_count": 31,
   "id": "4e34a7d6",
   "metadata": {},
   "outputs": [],
   "source": [
    "from tensorflow.keras.utils import to_categorical\n",
    "y_new = to_categorical(y)"
   ]
  },
  {
   "cell_type": "code",
   "execution_count": 32,
   "id": "2dce8aaa",
   "metadata": {},
   "outputs": [
    {
     "data": {
      "text/plain": [
       "array([[0., 1.],\n",
       "       [0., 1.],\n",
       "       [0., 1.],\n",
       "       ...,\n",
       "       [1., 0.],\n",
       "       [1., 0.],\n",
       "       [0., 1.]])"
      ]
     },
     "execution_count": 32,
     "metadata": {},
     "output_type": "execute_result"
    }
   ],
   "source": [
    "y_new"
   ]
  },
  {
   "cell_type": "code",
   "execution_count": 33,
   "id": "3d8b9189",
   "metadata": {},
   "outputs": [],
   "source": [
    "from sklearn.model_selection import train_test_split\n",
    "x_train, x_test,y_new_train,y_new_test = train_test_split(x,y_new, test_size = 0.2)"
   ]
  },
  {
   "cell_type": "code",
   "execution_count": 34,
   "id": "b06d14d7",
   "metadata": {},
   "outputs": [
    {
     "data": {
      "text/plain": [
       "(1946553, 11)"
      ]
     },
     "execution_count": 34,
     "metadata": {},
     "output_type": "execute_result"
    }
   ],
   "source": [
    "x_train.shape"
   ]
  },
  {
   "cell_type": "code",
   "execution_count": 38,
   "id": "7f6a08a9",
   "metadata": {},
   "outputs": [
    {
     "data": {
      "text/plain": [
       "['AUC',\n",
       " 'Accuracy',\n",
       " 'BinaryAccuracy',\n",
       " 'BinaryCrossentropy',\n",
       " 'BinaryIoU',\n",
       " 'CategoricalAccuracy',\n",
       " 'CategoricalCrossentropy',\n",
       " 'CategoricalHinge',\n",
       " 'ConcordanceCorrelation',\n",
       " 'CosineSimilarity',\n",
       " 'F1Score',\n",
       " 'FBetaScore',\n",
       " 'FalseNegatives',\n",
       " 'FalsePositives',\n",
       " 'Hinge',\n",
       " 'IoU',\n",
       " 'KLD',\n",
       " 'KLDivergence',\n",
       " 'LogCoshError',\n",
       " 'MAE',\n",
       " 'MAPE',\n",
       " 'MSE',\n",
       " 'MSLE',\n",
       " 'Mean',\n",
       " 'MeanAbsoluteError',\n",
       " 'MeanAbsolutePercentageError',\n",
       " 'MeanIoU',\n",
       " 'MeanMetricWrapper',\n",
       " 'MeanSquaredError',\n",
       " 'MeanSquaredLogarithmicError',\n",
       " 'Metric',\n",
       " 'OneHotIoU',\n",
       " 'OneHotMeanIoU',\n",
       " 'PearsonCorrelation',\n",
       " 'Poisson',\n",
       " 'Precision',\n",
       " 'PrecisionAtRecall',\n",
       " 'R2Score',\n",
       " 'Recall',\n",
       " 'RecallAtPrecision',\n",
       " 'RootMeanSquaredError',\n",
       " 'SensitivityAtSpecificity',\n",
       " 'SparseCategoricalAccuracy',\n",
       " 'SparseCategoricalCrossentropy',\n",
       " 'SparseTopKCategoricalAccuracy',\n",
       " 'SpecificityAtSensitivity',\n",
       " 'SquaredHinge',\n",
       " 'Sum',\n",
       " 'TopKCategoricalAccuracy',\n",
       " 'TrueNegatives',\n",
       " 'TruePositives',\n",
       " '__builtins__',\n",
       " '__cached__',\n",
       " '__doc__',\n",
       " '__file__',\n",
       " '__loader__',\n",
       " '__name__',\n",
       " '__package__',\n",
       " '__path__',\n",
       " '__spec__',\n",
       " 'binary_accuracy',\n",
       " 'binary_crossentropy',\n",
       " 'binary_focal_crossentropy',\n",
       " 'categorical_accuracy',\n",
       " 'categorical_crossentropy',\n",
       " 'categorical_focal_crossentropy',\n",
       " 'categorical_hinge',\n",
       " 'concordance_correlation',\n",
       " 'deserialize',\n",
       " 'get',\n",
       " 'hinge',\n",
       " 'huber',\n",
       " 'kld',\n",
       " 'kullback_leibler_divergence',\n",
       " 'logcosh',\n",
       " 'mae',\n",
       " 'mape',\n",
       " 'mse',\n",
       " 'msle',\n",
       " 'pearson_correlation',\n",
       " 'poisson',\n",
       " 'serialize',\n",
       " 'sparse_categorical_accuracy',\n",
       " 'sparse_categorical_crossentropy',\n",
       " 'sparse_top_k_categorical_accuracy',\n",
       " 'squared_hinge',\n",
       " 'top_k_categorical_accuracy']"
      ]
     },
     "execution_count": 38,
     "metadata": {},
     "output_type": "execute_result"
    }
   ],
   "source": [
    "import tensorflow as tf\n",
    "dir(tf.keras.metrics)"
   ]
  },
  {
   "cell_type": "code",
   "execution_count": 41,
   "id": "b44a8073",
   "metadata": {},
   "outputs": [
    {
     "name": "stdout",
     "output_type": "stream",
     "text": [
      "Epoch 1/40\n",
      "\u001b[1m1521/1521\u001b[0m \u001b[32m━━━━━━━━━━━━━━━━━━━━\u001b[0m\u001b[37m\u001b[0m \u001b[1m28s\u001b[0m 17ms/step - accuracy: 0.5841 - auc: 0.5971 - loss: 0.6863 - precision: 0.5841 - recall: 0.5841 - val_accuracy: 0.5946 - val_auc: 0.5966 - val_loss: 0.6768 - val_precision: 0.5946 - val_recall: 0.5946 - learning_rate: 0.0010\n",
      "Epoch 2/40\n",
      "\u001b[1m1521/1521\u001b[0m \u001b[32m━━━━━━━━━━━━━━━━━━━━\u001b[0m\u001b[37m\u001b[0m \u001b[1m50s\u001b[0m 33ms/step - accuracy: 0.5947 - auc: 0.6074 - loss: 0.6747 - precision: 0.5947 - recall: 0.5947 - val_accuracy: 0.5946 - val_auc: 0.6105 - val_loss: 0.6739 - val_precision: 0.5946 - val_recall: 0.5946 - learning_rate: 0.0010\n",
      "Epoch 3/40\n",
      "\u001b[1m1521/1521\u001b[0m \u001b[32m━━━━━━━━━━━━━━━━━━━━\u001b[0m\u001b[37m\u001b[0m \u001b[1m18s\u001b[0m 12ms/step - accuracy: 0.5945 - auc: 0.6087 - loss: 0.6742 - precision: 0.5945 - recall: 0.5945 - val_accuracy: 0.5946 - val_auc: 0.6096 - val_loss: 0.6740 - val_precision: 0.5946 - val_recall: 0.5946 - learning_rate: 0.0010\n",
      "Epoch 4/40\n",
      "\u001b[1m1521/1521\u001b[0m \u001b[32m━━━━━━━━━━━━━━━━━━━━\u001b[0m\u001b[37m\u001b[0m \u001b[1m19s\u001b[0m 12ms/step - accuracy: 0.5950 - auc: 0.6104 - loss: 0.6735 - precision: 0.5950 - recall: 0.5950 - val_accuracy: 0.5946 - val_auc: 0.6076 - val_loss: 0.6740 - val_precision: 0.5946 - val_recall: 0.5946 - learning_rate: 0.0010\n",
      "Epoch 5/40\n",
      "\u001b[1m1520/1521\u001b[0m \u001b[32m━━━━━━━━━━━━━━━━━━━\u001b[0m\u001b[37m━\u001b[0m \u001b[1m0s\u001b[0m 12ms/step - accuracy: 0.5940 - auc: 0.6094 - loss: 0.6739 - precision: 0.5940 - recall: 0.5940\n",
      "Epoch 5: ReduceLROnPlateau reducing learning rate to 0.0003000000142492354.\n",
      "\u001b[1m1521/1521\u001b[0m \u001b[32m━━━━━━━━━━━━━━━━━━━━\u001b[0m\u001b[37m\u001b[0m \u001b[1m20s\u001b[0m 13ms/step - accuracy: 0.5940 - auc: 0.6094 - loss: 0.6739 - precision: 0.5940 - recall: 0.5940 - val_accuracy: 0.5946 - val_auc: 0.6065 - val_loss: 0.6742 - val_precision: 0.5946 - val_recall: 0.5946 - learning_rate: 0.0010\n",
      "Epoch 6/40\n",
      "\u001b[1m1521/1521\u001b[0m \u001b[32m━━━━━━━━━━━━━━━━━━━━\u001b[0m\u001b[37m\u001b[0m \u001b[1m20s\u001b[0m 13ms/step - accuracy: 0.5945 - auc: 0.6112 - loss: 0.6733 - precision: 0.5945 - recall: 0.5945 - val_accuracy: 0.5951 - val_auc: 0.6139 - val_loss: 0.6725 - val_precision: 0.5951 - val_recall: 0.5951 - learning_rate: 3.0000e-04\n",
      "Epoch 7/40\n",
      "\u001b[1m1521/1521\u001b[0m \u001b[32m━━━━━━━━━━━━━━━━━━━━\u001b[0m\u001b[37m\u001b[0m \u001b[1m20s\u001b[0m 13ms/step - accuracy: 0.5954 - auc: 0.6136 - loss: 0.6727 - precision: 0.5954 - recall: 0.5954 - val_accuracy: 0.5951 - val_auc: 0.6120 - val_loss: 0.6732 - val_precision: 0.5951 - val_recall: 0.5951 - learning_rate: 3.0000e-04\n",
      "Epoch 8/40\n",
      "\u001b[1m1521/1521\u001b[0m \u001b[32m━━━━━━━━━━━━━━━━━━━━\u001b[0m\u001b[37m\u001b[0m \u001b[1m20s\u001b[0m 13ms/step - accuracy: 0.5951 - auc: 0.6126 - loss: 0.6729 - precision: 0.5951 - recall: 0.5951 - val_accuracy: 0.5950 - val_auc: 0.6107 - val_loss: 0.6751 - val_precision: 0.5950 - val_recall: 0.5950 - learning_rate: 3.0000e-04\n",
      "Epoch 9/40\n",
      "\u001b[1m1521/1521\u001b[0m \u001b[32m━━━━━━━━━━━━━━━━━━━━\u001b[0m\u001b[37m\u001b[0m \u001b[1m20s\u001b[0m 13ms/step - accuracy: 0.5976 - auc: 0.6233 - loss: 0.6696 - precision: 0.5976 - recall: 0.5976 - val_accuracy: 0.5951 - val_auc: 0.6217 - val_loss: 0.6720 - val_precision: 0.5951 - val_recall: 0.5951 - learning_rate: 3.0000e-04\n",
      "Epoch 10/40\n",
      "\u001b[1m1521/1521\u001b[0m \u001b[32m━━━━━━━━━━━━━━━━━━━━\u001b[0m\u001b[37m\u001b[0m \u001b[1m20s\u001b[0m 13ms/step - accuracy: 0.5971 - auc: 0.6190 - loss: 0.6708 - precision: 0.5971 - recall: 0.5971 - val_accuracy: 0.5951 - val_auc: 0.6035 - val_loss: 0.6956 - val_precision: 0.5951 - val_recall: 0.5951 - learning_rate: 3.0000e-04\n",
      "Epoch 11/40\n",
      "\u001b[1m1521/1521\u001b[0m \u001b[32m━━━━━━━━━━━━━━━━━━━━\u001b[0m\u001b[37m\u001b[0m \u001b[1m20s\u001b[0m 13ms/step - accuracy: 0.5975 - auc: 0.6191 - loss: 0.6706 - precision: 0.5975 - recall: 0.5975 - val_accuracy: 0.5951 - val_auc: 0.5955 - val_loss: 0.6816 - val_precision: 0.5951 - val_recall: 0.5951 - learning_rate: 3.0000e-04\n",
      "Epoch 12/40\n",
      "\u001b[1m1520/1521\u001b[0m \u001b[32m━━━━━━━━━━━━━━━━━━━\u001b[0m\u001b[37m━\u001b[0m \u001b[1m0s\u001b[0m 12ms/step - accuracy: 0.5962 - auc: 0.6162 - loss: 0.6716 - precision: 0.5962 - recall: 0.5962\n",
      "Epoch 12: ReduceLROnPlateau reducing learning rate to 9.000000427477062e-05.\n",
      "\u001b[1m1521/1521\u001b[0m \u001b[32m━━━━━━━━━━━━━━━━━━━━\u001b[0m\u001b[37m\u001b[0m \u001b[1m20s\u001b[0m 13ms/step - accuracy: 0.5962 - auc: 0.6162 - loss: 0.6716 - precision: 0.5962 - recall: 0.5962 - val_accuracy: 0.5949 - val_auc: 0.6029 - val_loss: 0.6812 - val_precision: 0.5949 - val_recall: 0.5949 - learning_rate: 3.0000e-04\n",
      "Epoch 13/40\n",
      "\u001b[1m1521/1521\u001b[0m \u001b[32m━━━━━━━━━━━━━━━━━━━━\u001b[0m\u001b[37m\u001b[0m \u001b[1m20s\u001b[0m 13ms/step - accuracy: 0.5992 - auc: 0.6207 - loss: 0.6697 - precision: 0.5992 - recall: 0.5992 - val_accuracy: 0.5485 - val_auc: 0.5599 - val_loss: 0.6881 - val_precision: 0.5485 - val_recall: 0.5485 - learning_rate: 9.0000e-05\n",
      "Epoch 14/40\n",
      "\u001b[1m1521/1521\u001b[0m \u001b[32m━━━━━━━━━━━━━━━━━━━━\u001b[0m\u001b[37m\u001b[0m \u001b[1m20s\u001b[0m 13ms/step - accuracy: 0.6044 - auc: 0.6363 - loss: 0.6635 - precision: 0.6044 - recall: 0.6044 - val_accuracy: 0.6001 - val_auc: 0.6355 - val_loss: 0.6629 - val_precision: 0.6001 - val_recall: 0.6001 - learning_rate: 9.0000e-05\n",
      "Epoch 15/40\n",
      "\u001b[1m1521/1521\u001b[0m \u001b[32m━━━━━━━━━━━━━━━━━━━━\u001b[0m\u001b[37m\u001b[0m \u001b[1m20s\u001b[0m 13ms/step - accuracy: 0.6051 - auc: 0.6389 - loss: 0.6621 - precision: 0.6051 - recall: 0.6051 - val_accuracy: 0.6007 - val_auc: 0.6348 - val_loss: 0.6633 - val_precision: 0.6007 - val_recall: 0.6007 - learning_rate: 9.0000e-05\n",
      "Epoch 16/40\n",
      "\u001b[1m1521/1521\u001b[0m \u001b[32m━━━━━━━━━━━━━━━━━━━━\u001b[0m\u001b[37m\u001b[0m \u001b[1m20s\u001b[0m 13ms/step - accuracy: 0.6053 - auc: 0.6389 - loss: 0.6618 - precision: 0.6053 - recall: 0.6053 - val_accuracy: 0.6035 - val_auc: 0.6393 - val_loss: 0.6651 - val_precision: 0.6035 - val_recall: 0.6035 - learning_rate: 9.0000e-05\n",
      "Epoch 17/40\n",
      "\u001b[1m1521/1521\u001b[0m \u001b[32m━━━━━━━━━━━━━━━━━━━━\u001b[0m\u001b[37m\u001b[0m \u001b[1m20s\u001b[0m 13ms/step - accuracy: 0.6061 - auc: 0.6408 - loss: 0.6607 - precision: 0.6061 - recall: 0.6061 - val_accuracy: 0.6045 - val_auc: 0.6490 - val_loss: 0.6593 - val_precision: 0.6045 - val_recall: 0.6045 - learning_rate: 9.0000e-05\n",
      "Epoch 18/40\n",
      "\u001b[1m1521/1521\u001b[0m \u001b[32m━━━━━━━━━━━━━━━━━━━━\u001b[0m\u001b[37m\u001b[0m \u001b[1m20s\u001b[0m 13ms/step - accuracy: 0.6076 - auc: 0.6426 - loss: 0.6597 - precision: 0.6076 - recall: 0.6076 - val_accuracy: 0.6000 - val_auc: 0.6474 - val_loss: 0.6603 - val_precision: 0.6000 - val_recall: 0.6000 - learning_rate: 9.0000e-05\n",
      "Epoch 19/40\n",
      "\u001b[1m1521/1521\u001b[0m \u001b[32m━━━━━━━━━━━━━━━━━━━━\u001b[0m\u001b[37m\u001b[0m \u001b[1m20s\u001b[0m 13ms/step - accuracy: 0.6087 - auc: 0.6453 - loss: 0.6583 - precision: 0.6087 - recall: 0.6087 - val_accuracy: 0.6083 - val_auc: 0.6599 - val_loss: 0.6586 - val_precision: 0.6083 - val_recall: 0.6083 - learning_rate: 9.0000e-05\n",
      "Epoch 20/40\n",
      "\u001b[1m1521/1521\u001b[0m \u001b[32m━━━━━━━━━━━━━━━━━━━━\u001b[0m\u001b[37m\u001b[0m \u001b[1m21s\u001b[0m 14ms/step - accuracy: 0.6097 - auc: 0.6483 - loss: 0.6565 - precision: 0.6097 - recall: 0.6097 - val_accuracy: 0.6039 - val_auc: 0.6565 - val_loss: 0.6566 - val_precision: 0.6039 - val_recall: 0.6039 - learning_rate: 9.0000e-05\n",
      "Epoch 21/40\n",
      "\u001b[1m1521/1521\u001b[0m \u001b[32m━━━━━━━━━━━━━━━━━━━━\u001b[0m\u001b[37m\u001b[0m \u001b[1m20s\u001b[0m 13ms/step - accuracy: 0.6116 - auc: 0.6515 - loss: 0.6548 - precision: 0.6116 - recall: 0.6116 - val_accuracy: 0.5497 - val_auc: 0.5611 - val_loss: 0.6902 - val_precision: 0.5497 - val_recall: 0.5497 - learning_rate: 9.0000e-05\n",
      "Epoch 22/40\n",
      "\u001b[1m1521/1521\u001b[0m \u001b[32m━━━━━━━━━━━━━━━━━━━━\u001b[0m\u001b[37m\u001b[0m \u001b[1m20s\u001b[0m 13ms/step - accuracy: 0.6119 - auc: 0.6539 - loss: 0.6534 - precision: 0.6119 - recall: 0.6119 - val_accuracy: 0.6153 - val_auc: 0.6558 - val_loss: 0.6637 - val_precision: 0.6153 - val_recall: 0.6153 - learning_rate: 9.0000e-05\n",
      "Epoch 23/40\n",
      "\u001b[1m1521/1521\u001b[0m \u001b[32m━━━━━━━━━━━━━━━━━━━━\u001b[0m\u001b[37m\u001b[0m \u001b[1m21s\u001b[0m 13ms/step - accuracy: 0.6146 - auc: 0.6590 - loss: 0.6509 - precision: 0.6146 - recall: 0.6146 - val_accuracy: 0.6096 - val_auc: 0.6734 - val_loss: 0.6482 - val_precision: 0.6096 - val_recall: 0.6096 - learning_rate: 9.0000e-05\n",
      "Epoch 24/40\n",
      "\u001b[1m1521/1521\u001b[0m \u001b[32m━━━━━━━━━━━━━━━━━━━━\u001b[0m\u001b[37m\u001b[0m \u001b[1m21s\u001b[0m 14ms/step - accuracy: 0.6183 - auc: 0.6654 - loss: 0.6476 - precision: 0.6183 - recall: 0.6183 - val_accuracy: 0.6368 - val_auc: 0.6964 - val_loss: 0.6464 - val_precision: 0.6368 - val_recall: 0.6368 - learning_rate: 9.0000e-05\n",
      "Epoch 25/40\n",
      "\u001b[1m1521/1521\u001b[0m \u001b[32m━━━━━━━━━━━━━━━━━━━━\u001b[0m\u001b[37m\u001b[0m \u001b[1m21s\u001b[0m 14ms/step - accuracy: 0.6226 - auc: 0.6700 - loss: 0.6456 - precision: 0.6226 - recall: 0.6226 - val_accuracy: 0.5977 - val_auc: 0.6031 - val_loss: 0.6973 - val_precision: 0.5977 - val_recall: 0.5977 - learning_rate: 9.0000e-05\n",
      "Epoch 26/40\n",
      "\u001b[1m1521/1521\u001b[0m \u001b[32m━━━━━━━━━━━━━━━━━━━━\u001b[0m\u001b[37m\u001b[0m \u001b[1m21s\u001b[0m 14ms/step - accuracy: 0.6282 - auc: 0.6743 - loss: 0.6434 - precision: 0.6282 - recall: 0.6282 - val_accuracy: 0.6457 - val_auc: 0.7091 - val_loss: 0.6287 - val_precision: 0.6457 - val_recall: 0.6457 - learning_rate: 9.0000e-05\n",
      "Epoch 27/40\n",
      "\u001b[1m1521/1521\u001b[0m \u001b[32m━━━━━━━━━━━━━━━━━━━━\u001b[0m\u001b[37m\u001b[0m \u001b[1m21s\u001b[0m 14ms/step - accuracy: 0.6334 - auc: 0.6784 - loss: 0.6413 - precision: 0.6334 - recall: 0.6334 - val_accuracy: 0.6642 - val_auc: 0.7214 - val_loss: 0.6250 - val_precision: 0.6642 - val_recall: 0.6642 - learning_rate: 9.0000e-05\n",
      "Epoch 28/40\n",
      "\u001b[1m1521/1521\u001b[0m \u001b[32m━━━━━━━━━━━━━━━━━━━━\u001b[0m\u001b[37m\u001b[0m \u001b[1m20s\u001b[0m 13ms/step - accuracy: 0.6390 - auc: 0.6860 - loss: 0.6373 - precision: 0.6390 - recall: 0.6390 - val_accuracy: 0.6168 - val_auc: 0.6667 - val_loss: 0.6580 - val_precision: 0.6168 - val_recall: 0.6168 - learning_rate: 9.0000e-05\n",
      "Epoch 29/40\n",
      "\u001b[1m1521/1521\u001b[0m \u001b[32m━━━━━━━━━━━━━━━━━━━━\u001b[0m\u001b[37m\u001b[0m \u001b[1m21s\u001b[0m 14ms/step - accuracy: 0.6410 - auc: 0.6885 - loss: 0.6362 - precision: 0.6410 - recall: 0.6410 - val_accuracy: 0.6631 - val_auc: 0.7199 - val_loss: 0.6236 - val_precision: 0.6631 - val_recall: 0.6631 - learning_rate: 9.0000e-05\n",
      "Epoch 30/40\n",
      "\u001b[1m1521/1521\u001b[0m \u001b[32m━━━━━━━━━━━━━━━━━━━━\u001b[0m\u001b[37m\u001b[0m \u001b[1m21s\u001b[0m 14ms/step - accuracy: 0.6420 - auc: 0.6898 - loss: 0.6354 - precision: 0.6420 - recall: 0.6420 - val_accuracy: 0.6292 - val_auc: 0.6917 - val_loss: 0.6361 - val_precision: 0.6292 - val_recall: 0.6292 - learning_rate: 9.0000e-05\n",
      "Epoch 31/40\n",
      "\u001b[1m1521/1521\u001b[0m \u001b[32m━━━━━━━━━━━━━━━━━━━━\u001b[0m\u001b[37m\u001b[0m \u001b[1m21s\u001b[0m 14ms/step - accuracy: 0.6418 - auc: 0.6909 - loss: 0.6349 - precision: 0.6418 - recall: 0.6418 - val_accuracy: 0.6208 - val_auc: 0.6483 - val_loss: 0.6625 - val_precision: 0.6208 - val_recall: 0.6208 - learning_rate: 9.0000e-05\n",
      "Epoch 32/40\n",
      "\u001b[1m1519/1521\u001b[0m \u001b[32m━━━━━━━━━━━━━━━━━━━\u001b[0m\u001b[37m━\u001b[0m \u001b[1m0s\u001b[0m 12ms/step - accuracy: 0.6404 - auc: 0.6891 - loss: 0.6359 - precision: 0.6404 - recall: 0.6404\n",
      "Epoch 32: ReduceLROnPlateau reducing learning rate to 2.700000040931627e-05.\n",
      "\u001b[1m1521/1521\u001b[0m \u001b[32m━━━━━━━━━━━━━━━━━━━━\u001b[0m\u001b[37m\u001b[0m \u001b[1m21s\u001b[0m 14ms/step - accuracy: 0.6404 - auc: 0.6891 - loss: 0.6359 - precision: 0.6404 - recall: 0.6404 - val_accuracy: 0.6170 - val_auc: 0.6904 - val_loss: 0.6400 - val_precision: 0.6170 - val_recall: 0.6170 - learning_rate: 9.0000e-05\n",
      "Epoch 33/40\n",
      "\u001b[1m1521/1521\u001b[0m \u001b[32m━━━━━━━━━━━━━━━━━━━━\u001b[0m\u001b[37m\u001b[0m \u001b[1m21s\u001b[0m 13ms/step - accuracy: 0.6444 - auc: 0.6933 - loss: 0.6336 - precision: 0.6444 - recall: 0.6444 - val_accuracy: 0.6220 - val_auc: 0.6859 - val_loss: 0.6423 - val_precision: 0.6220 - val_recall: 0.6220 - learning_rate: 2.7000e-05\n",
      "Epoch 34/40\n",
      "\u001b[1m1521/1521\u001b[0m \u001b[32m━━━━━━━━━━━━━━━━━━━━\u001b[0m\u001b[37m\u001b[0m \u001b[1m21s\u001b[0m 14ms/step - accuracy: 0.6445 - auc: 0.6945 - loss: 0.6330 - precision: 0.6445 - recall: 0.6445 - val_accuracy: 0.6617 - val_auc: 0.7192 - val_loss: 0.6239 - val_precision: 0.6617 - val_recall: 0.6617 - learning_rate: 2.7000e-05\n"
     ]
    }
   ],
   "source": [
    "from tensorflow.keras.models import Sequential\n",
    "from tensorflow.keras.layers import Dense, Dropout, BatchNormalization, Input, ReLU\n",
    "from tensorflow.keras.optimizers import Adam\n",
    "from tensorflow.keras.callbacks import EarlyStopping, ReduceLROnPlateau\n",
    "import tensorflow as tf\n",
    "\n",
    "# Model definition\n",
    "model = Sequential()\n",
    "model.add(Input(shape=(x_train.shape[1],)))\n",
    "\n",
    "model.add(Dense(512))\n",
    "model.add(ReLU())\n",
    "model.add(BatchNormalization())\n",
    "model.add(Dropout(0.4))\n",
    "\n",
    "model.add(Dense(256))\n",
    "model.add(ReLU())\n",
    "model.add(BatchNormalization())\n",
    "model.add(Dropout(0.3))\n",
    "\n",
    "model.add(Dense(128))\n",
    "model.add(ReLU())\n",
    "model.add(BatchNormalization())\n",
    "\n",
    "model.add(Dense(64))\n",
    "model.add(ReLU())\n",
    "\n",
    "model.add(Dense(2, activation='softmax'))\n",
    "\n",
    "# Compile the model\n",
    "model.compile(\n",
    "    loss='categorical_crossentropy',\n",
    "    optimizer=Adam(learning_rate=0.001),\n",
    "    metrics=[\n",
    "        tf.keras.metrics.Precision(name='precision'),\n",
    "        tf.keras.metrics.Recall(name='recall'),\n",
    "        tf.keras.metrics.AUC(name='auc'),\n",
    "        tf.keras.metrics.CategoricalAccuracy(name='accuracy')\n",
    "        \n",
    "         ]\n",
    ")\n",
    "\n",
    "# Callbacks\n",
    "early_stop = EarlyStopping(monitor='val_loss', patience=5, restore_best_weights=True)\n",
    "reduce_lr = ReduceLROnPlateau(monitor='val_loss', factor=0.3, patience=3, verbose=1)\n",
    "\n",
    "# Train the model\n",
    "result = model.fit(\n",
    "    x_train, y_new_train,\n",
    "    validation_split=0.2,\n",
    "    epochs=40,\n",
    "    batch_size=1024,\n",
    "    callbacks=[early_stop, reduce_lr]\n",
    ")\n"
   ]
  },
  {
   "cell_type": "code",
   "execution_count": 42,
   "id": "e412ee02",
   "metadata": {},
   "outputs": [
    {
     "name": "stdout",
     "output_type": "stream",
     "text": [
      "\u001b[1m15208/15208\u001b[0m \u001b[32m━━━━━━━━━━━━━━━━━━━━\u001b[0m\u001b[37m\u001b[0m \u001b[1m12s\u001b[0m 755us/step\n",
      "Confusion Matrix:\n",
      " [[ 60665 135889]\n",
      " [ 26891 263194]]\n",
      "\n",
      "Classification Report:\n",
      "                precision    recall  f1-score   support\n",
      "\n",
      "Not Reordered       0.69      0.31      0.43    196554\n",
      "    Reordered       0.66      0.91      0.76    290085\n",
      "\n",
      "     accuracy                           0.67    486639\n",
      "    macro avg       0.68      0.61      0.60    486639\n",
      " weighted avg       0.67      0.67      0.63    486639\n",
      "\n"
     ]
    }
   ],
   "source": [
    "from sklearn.metrics import confusion_matrix, classification_report\n",
    "y_pred_prob = model.predict(x_test)\n",
    "y_pred = np.argmax(y_pred_prob, axis=1)      \n",
    "y_true = np.argmax(y_new_test, axis=1)  \n",
    "cm = confusion_matrix(y_true, y_pred)\n",
    "print(\"Confusion Matrix:\\n\", cm)\n",
    "cr = classification_report(y_true, y_pred, target_names=['Not Reordered', 'Reordered'])\n",
    "print(\"\\nClassification Report:\\n\", cr)\n"
   ]
  },
  {
   "cell_type": "code",
   "execution_count": 44,
   "id": "35f5c919",
   "metadata": {},
   "outputs": [],
   "source": [
    "import pickle\n",
    "pickle.dump(model, open(\"Final.pkl\",\"wb\"))"
   ]
  }
 ],
 "metadata": {
  "kernelspec": {
   "display_name": "Python 3",
   "language": "python",
   "name": "python3"
  },
  "language_info": {
   "codemirror_mode": {
    "name": "ipython",
    "version": 3
   },
   "file_extension": ".py",
   "mimetype": "text/x-python",
   "name": "python",
   "nbconvert_exporter": "python",
   "pygments_lexer": "ipython3",
   "version": "3.12.4"
  }
 },
 "nbformat": 4,
 "nbformat_minor": 5
}
